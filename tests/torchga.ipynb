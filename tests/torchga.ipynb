{
 "cells": [
  {
   "cell_type": "code",
   "execution_count": 2,
   "metadata": {},
   "outputs": [],
   "source": [
    "import torch\n",
    "import numpy as np\n",
    "from torchga.torchga import GeometricAlgebra"
   ]
  },
  {
   "cell_type": "code",
   "execution_count": 3,
   "metadata": {},
   "outputs": [],
   "source": [
    "sta = GeometricAlgebra([1, -1, -1, -1])"
   ]
  },
  {
   "cell_type": "code",
   "execution_count": 4,
   "metadata": {},
   "outputs": [
    {
     "name": "stdout",
     "output_type": "stream",
     "text": [
      "MultiVector[1.00*e_01]\n",
      "MultiVector[4.00*e_0]\n",
      "MultiVector[9.00*e_1]\n",
      "MultiVector[4.00*e_0] MultiVector[9.00*e_1]\n",
      "MultiVector[1.00*e_0] MultiVector[1.00*e_1] MultiVector[1.00*e_0 + 1.00*e_1] MultiVector[1.00*e_01] MultiVector[-1.00*e_01]\n"
     ]
    }
   ],
   "source": [
    "sta.print(sta.geom_prod(sta.e0, sta.e1))\n",
    "a = sta.geom_prod(sta.e0, sta.from_scalar(4.0))\n",
    "b = sta.geom_prod(sta.from_scalar(9.0), sta.e1)\n",
    "sta.print(a)\n",
    "sta.print(b)\n",
    "sta.print(a, b)\n",
    "sta.print(\n",
    "    sta.e0,\n",
    "    sta.e1,\n",
    "    sta.e(\"0\", \"1\"),\n",
    "    sta.e01,\n",
    "    sta.e10\n",
    ")"
   ]
  },
  {
   "cell_type": "code",
   "execution_count": 5,
   "metadata": {},
   "outputs": [
    {
     "name": "stdout",
     "output_type": "stream",
     "text": [
      "a: MultiVector[4.00*e_0]\n",
      "~a: MultiVector[4.00*e_0]\n",
      "b: MultiVector[9.00*e_1]\n",
      "~b: MultiVector[9.00*e_1]\n",
      "~c: MultiVector[-9.00*e_12]\n"
     ]
    }
   ],
   "source": [
    "sta.print(\"a:\", a)\n",
    "sta.print(\"~a:\", sta.reversion(a))\n",
    "sta.print(\"b:\", b)\n",
    "sta.print(\"~b:\", sta.reversion(b))\n",
    "c = sta.geom_prod(sta.from_scalar(9.0), sta.e12)\n",
    "sta.print(\"~c:\", sta.reversion(c))\n"
   ]
  },
  {
   "cell_type": "code",
   "execution_count": 6,
   "metadata": {},
   "outputs": [
    {
     "name": "stdout",
     "output_type": "stream",
     "text": [
      "inv b: MultiVector[-0.11*e_1]\n",
      "inv a: MultiVector[0.25*e_0]\n",
      "inv c: MultiVector[-0.11*e_12]\n"
     ]
    }
   ],
   "source": [
    "sta.print(\"inv b:\", sta.inverse(b))\n",
    "sta.print(\"inv a:\", sta.inverse(a))\n",
    "sta.print(\"inv c:\", sta.inverse(c))"
   ]
  },
  {
   "cell_type": "code",
   "execution_count": 7,
   "metadata": {},
   "outputs": [
    {
     "name": "stdout",
     "output_type": "stream",
     "text": [
      "a: MultiVector[4.00*e_0]\n",
      "~a: MultiVector[4.00*e_0]\n",
      "b: MultiVector[9.00*e_1]\n",
      "~b: MultiVector[9.00*e_1]\n",
      "a + b: MultiVector[4.00*e_0 + 9.00*e_1]\n",
      "a / b: MultiVector[-0.44*e_01]\n"
     ]
    }
   ],
   "source": [
    "mv_a = sta(a)\n",
    "mv_b = sta(b)\n",
    "\n",
    "print(\"a:\", mv_a)\n",
    "print(\"~a:\", ~mv_a)\n",
    "#print(\"inv a:\", mv_a.inverse())\n",
    "print(\"b:\", mv_b)\n",
    "print(\"~b:\", ~mv_b)\n",
    "#print(\"inv a:\", mv_b.inverse())\n",
    "print(\"a + b:\", mv_a + mv_b)\n",
    "print(\"a / b:\", mv_a / mv_b)"
   ]
  },
  {
   "cell_type": "code",
   "execution_count": 8,
   "metadata": {},
   "outputs": [
    {
     "name": "stdout",
     "output_type": "stream",
     "text": [
      "c = a * b: MultiVector[36.00*e_01]\n",
      "c * c^-1: MultiVector[1.00*1]\n",
      "a * a^-1 MultiVector[1.00*1]\n",
      "b * b^-1: MultiVector[1.00*1]\n",
      "a^-1 * c: MultiVector[9.00*e_1] should be b: MultiVector[9.00*e_1] tensor(True)\n",
      "c * b^-1: MultiVector[4.00*e_0] should be a: MultiVector[4.00*e_0] tensor(True)\n"
     ]
    }
   ],
   "source": [
    "c = sta.geom_prod(a, b)\n",
    "sta.print(\"c = a * b:\", c)\n",
    "sta.print(\"c * c^-1:\", sta.geom_prod(c, sta.inverse(c)))\n",
    "sta.print(\"a * a^-1\", sta.geom_prod(a, sta.inverse(a)))\n",
    "sta.print(\"b * b^-1:\", sta.geom_prod(b, sta.inverse(b)))\n",
    "a_inv_c = sta.geom_prod(sta.inverse(a), c)\n",
    "sta.print(\"a^-1 * c:\", a_inv_c, \"should be b:\", b, torch.all(a_inv_c == b))\n",
    "c_b_inv = sta.geom_prod(c, sta.inverse(b))\n",
    "sta.print(\"c * b^-1:\", c_b_inv, \"should be a:\", a, torch.all(c_b_inv == a)\n",
    ")"
   ]
  },
  {
   "cell_type": "code",
   "execution_count": 9,
   "metadata": {},
   "outputs": [
    {
     "name": "stdout",
     "output_type": "stream",
     "text": [
      "c: MultiVector[36.00*e_01]\n",
      "c^-1: MultiVector[0.03*e_01]\n",
      "c^-1 shirokov: MultiVector[0.03*e_01]\n"
     ]
    }
   ],
   "source": [
    "sta.print(\"c:\", c)\n",
    "sta.print(\"c^-1:\", sta.simple_inverse(c)) # Faster, only works if c ~c is a scalar \n",
    "sta.print(\"c^-1 shirokov:\", sta.inverse(c)) # Always works if an inverse exists"
   ]
  },
  {
   "cell_type": "code",
   "execution_count": 10,
   "metadata": {},
   "outputs": [
    {
     "name": "stdout",
     "output_type": "stream",
     "text": [
      "MultiVector[9.00*e_1 + 36.00*e_01]\n"
     ]
    }
   ],
   "source": [
    "d = sta.geom_prod(a, b) + b\n",
    "sta.print(d)"
   ]
  },
  {
   "cell_type": "code",
   "execution_count": 11,
   "metadata": {},
   "outputs": [
    {
     "name": "stdout",
     "output_type": "stream",
     "text": [
      "MultiVector[]\n",
      "MultiVector[36.00*e_01]\n"
     ]
    }
   ],
   "source": [
    "sta.print(sta.inner_prod(a, b))\n",
    "sta.print(sta.ext_prod(a, b))"
   ]
  },
  {
   "cell_type": "code",
   "execution_count": 12,
   "metadata": {},
   "outputs": [
    {
     "name": "stdout",
     "output_type": "stream",
     "text": [
      "m: MultiVector[1.00*1 + 1.00*e_0 + 1.00*e_1 + 1.00*e_2 + 1.00*e_3 + 1.00*e_01 + 1.00*e_02 + 1.00*e_03 + 1.00*e_12 + 1.00*e_13 + 1.00*e_23 + 1.00*e_012 + 1.00*e_013 + 1.00*e_023 + 1.00*e_123 + 1.00*e_0123]\n",
      "~m: MultiVector[1.00*1 + 1.00*e_0 + 1.00*e_1 + 1.00*e_2 + 1.00*e_3 + -1.00*e_01 + -1.00*e_02 + -1.00*e_03 + -1.00*e_12 + -1.00*e_13 + -1.00*e_23 + -1.00*e_012 + -1.00*e_013 + -1.00*e_023 + -1.00*e_123 + 1.00*e_0123]\n",
      "bar m: MultiVector[1.00*1 + -1.00*e_0 + -1.00*e_1 + -1.00*e_2 + -1.00*e_3 + -1.00*e_01 + -1.00*e_02 + -1.00*e_03 + -1.00*e_12 + -1.00*e_13 + -1.00*e_23 + 1.00*e_012 + 1.00*e_013 + 1.00*e_023 + 1.00*e_123 + 1.00*e_0123]\n",
      "bar~m: MultiVector[1.00*1 + -1.00*e_0 + -1.00*e_1 + -1.00*e_2 + -1.00*e_3 + 1.00*e_01 + 1.00*e_02 + 1.00*e_03 + 1.00*e_12 + 1.00*e_13 + 1.00*e_23 + -1.00*e_012 + -1.00*e_013 + -1.00*e_023 + -1.00*e_123 + 1.00*e_0123]\n"
     ]
    }
   ],
   "source": [
    "m = torch.ones(16)\n",
    "sta.print(\"m:\", m)\n",
    "sta.print(\"~m:\", sta.reversion(m))\n",
    "sta.print(\"bar m:\", sta.conjugation(m))\n",
    "sta.print(\"bar~m:\", sta.grade_automorphism(m))"
   ]
  },
  {
   "cell_type": "code",
   "execution_count": 13,
   "metadata": {},
   "outputs": [
    {
     "name": "stdout",
     "output_type": "stream",
     "text": [
      "tensor([[0., 1., 0., 0.],\n",
      "        [0., 0., 1., 0.]])\n"
     ]
    }
   ],
   "source": [
    "complex_ga = GeometricAlgebra([1, 1])\n",
    "print(complex_ga.basis_mvs)"
   ]
  },
  {
   "cell_type": "code",
   "execution_count": 14,
   "metadata": {},
   "outputs": [
    {
     "name": "stdout",
     "output_type": "stream",
     "text": [
      "x: MultiVector[5.00*1]\n",
      "e0: MultiVector[1.00*e_0]\n",
      "e1: MultiVector[1.00*e_1]\n",
      "i = e01: MultiVector[1.00*e_01]\n",
      "i^2: MultiVector[-1.00*1]\n",
      "r = e^(45° * e12): MultiVector[0.71*1 + 0.71*e_01]\n",
      "x * r (x rotated 45°): MultiVector[3.54*1 + 3.54*e_01]\n",
      "x * ~r (x rotated -45°): MultiVector[3.54*1 + -3.54*e_01]\n"
     ]
    }
   ],
   "source": [
    "x = complex_ga.from_scalar(5.0)\n",
    "imag = complex_ga.e01\n",
    "r = complex_ga.approx_exp(complex_ga.geom_prod(complex_ga.from_scalar(np.deg2rad(45).astype(np.float32)), imag))\n",
    "complex_ga.print(\"x:\", x)\n",
    "complex_ga.print(\"e0:\", complex_ga.e0)\n",
    "complex_ga.print(\"e1:\", complex_ga.e1)\n",
    "complex_ga.print(\"i = e01:\", imag)\n",
    "complex_ga.print(\"i^2:\", complex_ga.geom_prod(imag, imag))\n",
    "complex_ga.print(\"r = e^(45° * e12):\", r)\n",
    "complex_ga.print(\"x * r (x rotated 45°):\", complex_ga.geom_prod(x, r))\n",
    "complex_ga.print(\"x * ~r (x rotated -45°):\", complex_ga.geom_prod(x, complex_ga.reversion(r)))"
   ]
  },
  {
   "cell_type": "code",
   "execution_count": 15,
   "metadata": {},
   "outputs": [
    {
     "name": "stdout",
     "output_type": "stream",
     "text": [
      "0 0° MultiVector[1.00*1]\n",
      "1 45° MultiVector[0.71*1 + 0.71*e_01]\n",
      "2 90° MultiVector[1.00*e_01]\n",
      "3 135° MultiVector[-0.71*1 + 0.71*e_01]\n",
      "4 180° MultiVector[-1.00*1]\n",
      "5 225° MultiVector[-0.71*1 + -0.71*e_01]\n",
      "6 270° MultiVector[-1.00*e_01]\n",
      "7 315° MultiVector[0.71*1 + -0.71*e_01]\n",
      "8 360° MultiVector[1.00*1]\n"
     ]
    }
   ],
   "source": [
    "for i in range(9):\n",
    "    complex_ga.print(i, \"%d°\" % (i * 45), complex_ga.int_pow(r, i))"
   ]
  },
  {
   "cell_type": "code",
   "execution_count": 16,
   "metadata": {},
   "outputs": [
    {
     "name": "stdout",
     "output_type": "stream",
     "text": [
      "MultiVector[0.71*1 + 0.71*e_01]\n"
     ]
    }
   ],
   "source": [
    "complex_ga.print(complex_ga.int_pow(r, 25))"
   ]
  },
  {
   "cell_type": "code",
   "execution_count": 17,
   "metadata": {},
   "outputs": [
    {
     "name": "stdout",
     "output_type": "stream",
     "text": [
      "MultiVector[0.80*1]\n"
     ]
    },
    {
     "name": "stdout",
     "output_type": "stream",
     "text": [
      "MultiVector[0.22*1] expected -0.2231435513142097\n",
      "MultiVector[1.25*1] expected 0.8\n",
      "MultiVector[283.90*1] expected 0.8\n"
     ]
    }
   ],
   "source": [
    "y = complex_ga.from_scalar(0.8)\n",
    "complex_ga.print(y)\n",
    "complex_ga.print(complex_ga.approx_log(y), \"expected\", np.log(0.8))\n",
    "complex_ga.print(complex_ga.approx_exp(complex_ga.approx_log(y)), \"expected\", 0.8)\n",
    "complex_ga.print(complex_ga.approx_log(complex_ga.approx_exp(y)), \"expected\", 0.8) # doesn't work because approx_log only works for |x -1| < 1"
   ]
  },
  {
   "cell_type": "code",
   "execution_count": 18,
   "metadata": {},
   "outputs": [
    {
     "name": "stdout",
     "output_type": "stream",
     "text": [
      "MultiVector[batch_shape=torch.Size([3])]\n",
      "MultiVector[4.00*e_0]\n"
     ]
    }
   ],
   "source": [
    "u = a.unsqueeze(0).repeat(3, 1)\n",
    "sta.print(u)\n",
    "sta.print(u[0])"
   ]
  },
  {
   "cell_type": "code",
   "execution_count": 19,
   "metadata": {},
   "outputs": [
    {
     "name": "stdout",
     "output_type": "stream",
     "text": [
      "MultiVector[1.00*1 + 1.00*e_0 + 1.00*e_1 + 1.00*e_2 + 1.00*e_3 + 1.00*e_01 + 1.00*e_02 + 1.00*e_03 + 1.00*e_12 + 1.00*e_13 + 1.00*e_23 + 1.00*e_012 + 1.00*e_013 + 1.00*e_023 + 1.00*e_123 + 1.00*e_0123]\n",
      "MultiVector[1.00*e_1 + 1.00*e_01]\n",
      "MultiVector[1.00*e_2]\n",
      "R: tensor([ 1.,  1., -1.])\n",
      "R: tensor([1., 1., 1., 1.])\n",
      "R: tensor(1.)\n",
      "tensor(1.)\n"
     ]
    }
   ],
   "source": [
    "v = sta.from_tensor_with_kind(torch.ones(16, dtype=torch.float32), \"mv\")\n",
    "sta.print(v)\n",
    "sta.print(sta.keep_blades_with_name(v, [\"10\", \"1\"]))\n",
    "sta.print(sta.keep_blades_with_name(v, \"2\"))\n",
    "sta.print(\"R:\", sta.select_blades_with_name(v, [\"0\", \"01\", \"10\"]))\n",
    "sta.print(\"R:\", sta.select_blades_with_name(v, [\"123\", \"01\", \"0\", \"0\"]))\n",
    "sta.print(\"R:\", sta.select_blades_with_name(v, \"312\"))\n",
    "sta.print(v[..., 0])"
   ]
  }
 ],
 "metadata": {
  "kernelspec": {
   "display_name": "cliff",
   "language": "python",
   "name": "python3"
  },
  "language_info": {
   "codemirror_mode": {
    "name": "ipython",
    "version": 3
   },
   "file_extension": ".py",
   "mimetype": "text/x-python",
   "name": "python",
   "nbconvert_exporter": "python",
   "pygments_lexer": "ipython3",
   "version": "3.8.13"
  },
  "orig_nbformat": 2
 },
 "nbformat": 4,
 "nbformat_minor": 2
}
