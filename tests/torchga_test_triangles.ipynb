{
 "cells": [
  {
   "cell_type": "code",
   "execution_count": null,
   "id": "c51716c1",
   "metadata": {},
   "outputs": [],
   "source": [
    "import matplotlib.pyplot as plt\n",
    "import torch\n",
    "import torch.nn as nn\n",
    "import gc\n",
    "import os\n",
    "from torchga.torchga import GeometricAlgebra\n",
    "from torchga.layers import GeometricProductDense, TensorToGeometric, GeometricToTensor\n",
    "from torch.utils.data import DataLoader, TensorDataset\n",
    "import torch.nn as nn\n",
    "import torch.optim as optim"
   ]
  },
  {
   "cell_type": "code",
   "execution_count": null,
   "id": "e13445e8",
   "metadata": {
    "lines_to_next_cell": 2
   },
   "outputs": [],
   "source": [
    "if torch.cuda.is_available():\n",
    "    # Set memory growth behavior (manually or automatically managed by CUDA)\n",
    "    for i in range(torch.cuda.device_count()):\n",
    "        # Set the memory fraction (optional, defaults to 1.0 meaning use all available memory)\n",
    "        torch.cuda.set_per_process_memory_fraction(1.0, i)\n",
    "        \n",
    "        # Optionally, you can also clear unused memory (this is the closest thing to memory growth in PyTorch)\n",
    "        torch.cuda.empty_cache()"
   ]
  },
  {
   "cell_type": "code",
   "execution_count": null,
   "id": "22ab3fdc",
   "metadata": {
    "lines_to_next_cell": 2
   },
   "outputs": [],
   "source": [
    "def make_batch(batch_size):\n",
    "    triangle_points = 2 * torch.rand((batch_size, 3, 2)) - 1\n",
    "    x, y = triangle_points[..., 0], triangle_points[..., 1]\n",
    "    ax, ay, bx, by, cx, cy = x[..., 0], y[..., 0], x[..., 1], y[..., 1], x[..., 2], y[..., 2]\n",
    "    triangle_areas = 0.5 * torch.abs(ax * (by - cy) + bx * (cy - ay) + cx * (ay - by))\n",
    "    return triangle_points, triangle_areas\n",
    "\n",
    "num_samples = 10\n",
    "sample_points, sample_areas = make_batch(num_samples)\n",
    "\n",
    "fig, axes = plt.subplots(1, num_samples, figsize=(12, 4), sharex=True, sharey=True)\n",
    "for i, ax in enumerate(axes):\n",
    "    points = sample_points[i]\n",
    "    area = sample_areas[i]\n",
    "    center = torch.mean(points, dim=0)\n",
    "    ax.scatter(points[..., 0], points[..., 1])\n",
    "    ax.add_patch(plt.Polygon(points))\n",
    "    ax.annotate(\"Area: %.2f\" % area, center)\n",
    "fig.show()"
   ]
  },
  {
   "cell_type": "code",
   "execution_count": null,
   "id": "96f05179",
   "metadata": {},
   "outputs": [],
   "source": [
    "gc.collect()\n",
    "torch.cuda.empty_cache() \n",
    "device = torch.device('cuda' if torch.cuda.is_available() else 'cpu')\n",
    "print(f'Using device: {device}', flush = True)\n",
    "os.environ[\"CUDA_VISIBLE_DEVICES\"] = \"0, 1\"\n",
    "\n",
    "\n",
    "ga = GeometricAlgebra([1, 1])\n",
    "s_indices = [0]\n",
    "v_indices = [1, 2]\n",
    "mv_indices = torch.arange(0, ga.num_blades)\n",
    "\n",
    "s_indices = torch.tensor(s_indices).to(device)\n",
    "v_indices = torch.tensor(v_indices).to(device)\n",
    "mv_indices = mv_indices.to(device)\n",
    "\n",
    "# Define the PyTorch model, analogous to tf.keras.Sequential\n",
    "model1 = TensorToGeometric(ga, blade_indices=v_indices)\n",
    "model2 = GeometricProductDense(\n",
    "        ga, num_input_units=3, num_output_units=64, activation=\"relu\",\n",
    "        blade_indices_kernel=mv_indices,\n",
    "        blade_indices_bias=mv_indices\n",
    "    )\n",
    "\n",
    "\n",
    "\n",
    "# Example input\n",
    "sample_points = torch.randn([num_samples, 3, 2]).to(device)"
   ]
  },
  {
   "cell_type": "code",
   "execution_count": null,
   "id": "25951a1f",
   "metadata": {},
   "outputs": [],
   "source": [
    "model = nn.Sequential(\n",
    "    TensorToGeometric(ga, blade_indices=v_indices),\n",
    "    GeometricProductDense(\n",
    "        ga, num_input_units=3, num_output_units=64, activation=\"relu\",\n",
    "        blade_indices_kernel=mv_indices,\n",
    "        blade_indices_bias=mv_indices\n",
    "    ),\n",
    "    GeometricProductDense(\n",
    "        ga, num_input_units=64, num_output_units=64, activation=\"relu\",\n",
    "        blade_indices_kernel=mv_indices,\n",
    "        blade_indices_bias=mv_indices\n",
    "    ),\n",
    "    GeometricProductDense(\n",
    "        ga, num_input_units=64, num_output_units=1,\n",
    "        blade_indices_kernel=mv_indices,\n",
    "        blade_indices_bias=s_indices\n",
    "    ),\n",
    "    GeometricToTensor(ga, blade_indices=s_indices)\n",
    ")\n",
    "\n",
    "model = model.to(device)\n",
    "\n",
    "# Print samples and model output\n",
    "print(\"Samples:\", sample_points[0])\n",
    "print(\"Model(Samples):\", model(sample_points))"
   ]
  },
  {
   "cell_type": "code",
   "execution_count": null,
   "id": "95fdbb9f",
   "metadata": {
    "lines_to_next_cell": 2
   },
   "outputs": [],
   "source": [
    "train_points, train_areas = make_batch(1024)\n",
    "test_points, test_areas = make_batch(128)\n",
    "\n",
    "# Create datasets for training and validation\n",
    "train_dataset = TensorDataset(train_points, train_areas)\n",
    "test_dataset = TensorDataset(test_points, test_areas)\n",
    "\n",
    "# Create DataLoaders with batch_size=32\n",
    "train_loader = DataLoader(train_dataset, batch_size=32, shuffle=True)\n",
    "test_loader = DataLoader(test_dataset, batch_size=32)"
   ]
  },
  {
   "cell_type": "code",
   "execution_count": null,
   "id": "f69cdf2c",
   "metadata": {
    "lines_to_next_cell": 2
   },
   "outputs": [],
   "source": [
    "# Assuming MyModel is already defined\n",
    "optimizer = optim.Adam(model.parameters(), lr=1e-2)\n",
    "criterion = nn.MSELoss()  # Assuming this is a regression task\n",
    "epochs = 200"
   ]
  },
  {
   "cell_type": "code",
   "execution_count": null,
   "id": "24d0e53e",
   "metadata": {
    "lines_to_next_cell": 2
   },
   "outputs": [],
   "source": [
    "for epoch in range(epochs):\n",
    "    model.train()\n",
    "    running_loss = 0.0  # Track training loss for the epoch\n",
    "\n",
    "    # Training loop over batches\n",
    "    for batch_points, batch_areas in train_loader:\n",
    "        #print(batch_points[0])\n",
    "        #print(batch_areas[0])\n",
    "        #print(\"***\")\n",
    "        optimizer.zero_grad()\n",
    "\n",
    "        batch_points = batch_points.to(device)\n",
    "        batch_areas = batch_areas.to(device)\n",
    "        \n",
    "        # Forward pass\n",
    "        outputs = model(batch_points)\n",
    "        outputs = outputs.squeeze()\n",
    "        #print(outputs.shape)\n",
    "        loss = criterion(outputs, batch_areas)\n",
    "        \n",
    "        # Backward pass and optimization\n",
    "        loss.backward()\n",
    "        '''\n",
    "        for name, param in model.named_parameters():\n",
    "            if param.grad is None:\n",
    "                print(f\"No gradient for {name}\")\n",
    "            else:\n",
    "                print(f\"{name} gradient mean: {param.grad.mean()}\")\n",
    "                print(f\"{name} gradient max: {param.grad.mean()}\")\n",
    "                print(\" \")\n",
    "        '''\n",
    "        optimizer.step()\n",
    "        \n",
    "        running_loss += loss.item()\n",
    "\n",
    "    # Validation loop\n",
    "    model.eval()\n",
    "    val_loss = 0.0\n",
    "    with torch.no_grad():\n",
    "        for val_points, val_areas in test_loader:\n",
    "            val_outputs = model(val_points.to(device))\n",
    "            val_outputs = val_outputs.squeeze()\n",
    "            batch_val_loss = criterion(val_outputs, val_areas.to(device))\n",
    "            val_loss += batch_val_loss.item()\n",
    "    \n",
    "    # Calculate average loss per batch for training and validation\n",
    "    running_loss /= len(train_loader)\n",
    "    val_loss /= len(test_loader)\n",
    "    \n",
    "    print(f\"Epoch [{epoch+1}/{epochs}], Loss: {running_loss:.4f}, Validation Loss: {val_loss:.4f}\")"
   ]
  },
  {
   "cell_type": "code",
   "execution_count": null,
   "id": "5f8c5661",
   "metadata": {},
   "outputs": [],
   "source": [
    "num_samples = 3\n",
    "sample_points, sample_areas = make_batch(num_samples)\n",
    "sample_points = sample_points.to(device)\n",
    "\n",
    "predicted_sample_areas = model(sample_points)\n",
    "predicted_sample_areas = predicted_sample_areas.squeeze()\n",
    "\n",
    "fig, axes = plt.subplots(1, num_samples, figsize=(20, 5), sharex=True, sharey=True)\n",
    "for i, ax in enumerate(axes):\n",
    "    points = sample_points[i].cpu()\n",
    "    area = sample_areas[i]\n",
    "    predicted_area = predicted_sample_areas[i]\n",
    "    center = torch.mean(points, axis=0)\n",
    "    ax.scatter(points[..., 0], points[..., 1])\n",
    "    ax.add_patch(plt.Polygon(points))\n",
    "    ax.annotate(\"Area: %.2f\" % area, center)\n",
    "    ax.annotate(\"Predicted area: %.2f\" % predicted_area, center + torch.tensor([0, -0.1]))\n",
    "    print(area, predicted_area, flush = True)\n",
    "fig.show()"
   ]
  }
 ],
 "metadata": {
  "jupytext": {
   "cell_metadata_filter": "-all",
   "encoding": "# coding: utf-8",
   "executable": "/usr/bin/env python",
   "main_language": "python",
   "notebook_metadata_filter": "-all"
  },
  "kernelspec": {
   "display_name": "cliff",
   "language": "python",
   "name": "python3"
  },
  "language_info": {
   "codemirror_mode": {
    "name": "ipython",
    "version": 3
   },
   "file_extension": ".py",
   "mimetype": "text/x-python",
   "name": "python",
   "nbconvert_exporter": "python",
   "pygments_lexer": "ipython3",
   "version": "3.8.13"
  }
 },
 "nbformat": 4,
 "nbformat_minor": 5
}
